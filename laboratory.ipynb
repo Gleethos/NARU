{
 "cells": [
  {
   "cell_type": "markdown",
   "metadata": {},
   "source": [
    "# NARU - Laboratory #\n",
    "\n",
    "Dependencies:\n",
    "\n",
    "- `conda install -c anaconda bcolz ` : Loading token / vector dictionary\n",
    "<br>\n",
    "\n",
    "- `conda install pytorch torchvision torchaudio cudatoolkit=10.2 -c pytorch` : Math \n",
    "    - or: `conda install pytorch torchvision torchaudio cpuonly -c pytorch -c=conda-forge`\n",
    "<br> \n",
    "\n",
    "\n",
    "- `conda install -c conda-forge spacy` : Tokenization\n",
    "<br>\n",
    "\n",
    "- `conda install -c conda-forge matplotlib`"
   ]
  },
  {
   "cell_type": "markdown",
   "metadata": {
    "pycharm": {
     "name": "#%% md\n"
    }
   },
   "source": [
    "## Loading the dependencies ##"
   ]
  },
  {
   "cell_type": "code",
   "execution_count": 1,
   "metadata": {
    "pycharm": {
     "is_executing": true
    }
   },
   "outputs": [],
   "source": [
    "%load_ext autoreload\n",
    "%autoreload 1"
   ]
  },
  {
   "cell_type": "code",
   "execution_count": 2,
   "metadata": {
    "pycharm": {
     "name": "#%%\n"
    }
   },
   "outputs": [
    {
     "name": "stdout",
     "output_type": "stream",
     "text": [
      "Route loaded! Unit-Testing now...\n",
      "Route Unit-Testing successful!\n",
      "Group loaded! Unit-Testing now...\n",
      "tensor([[-0.0732]])\n",
      "tensor([[-0.0732]])\n",
      "Group Unit-Testing successful!\n",
      "==============================\n",
      "\n",
      "<spacy.lang.en.English object at 0x000001FF9015E388>\n"
     ]
    }
   ],
   "source": [
    "%aimport utility.trainer\n",
    "%aimport utility.ffnaru\n",
    "%aimport utility.embedding\n",
    "%aimport utility.data_loader "
   ]
  },
  {
   "cell_type": "code",
   "execution_count": 3,
   "metadata": {
    "pycharm": {
     "name": "#%%\n"
    }
   },
   "outputs": [],
   "source": [
    "import torch\n",
    "from utility.embedding import Encoder\n",
    "from utility.ffnaru import Network\n",
    "from utility.data_loader import load_jokes\n",
    "from utility.trainer import exec_trial_with_autograd\n",
    "from utility.persistence import save_params, load_params\n",
    "import time"
   ]
  },
  {
   "cell_type": "markdown",
   "metadata": {
    "pycharm": {
     "name": "#%% md\n"
    }
   },
   "source": [
    "Loading Data : Jokes"
   ]
  },
  {
   "cell_type": "code",
   "execution_count": 6,
   "metadata": {
    "pycharm": {
     "name": "#%%\n"
    }
   },
   "outputs": [
    {
     "name": "stdout",
     "output_type": "stream",
     "text": [
      "First joke in the data-set:\n",
      " ['I', 'just', 'read', 'this', 'article', 'about', 'short', 'term', 'memory', 'I', 'do', \"n't\", 'remember', 'what', 'it', 'was', 'about'] \n",
      "\n",
      "Number of training samples:  1297\n",
      "Number of test samples:  325\n"
     ]
    }
   ],
   "source": [
    "import random\n",
    "\n",
    "def list_splitter(list_to_split, ratio):\n",
    "    elements = len(list_to_split)\n",
    "    middle = int(elements * ratio)\n",
    "    return list_to_split[:middle], list_to_split[middle:]\n",
    "\n",
    "jokes = load_jokes()\n",
    "random.Random(42).shuffle(jokes)\n",
    "\n",
    "print('First joke in the data-set:\\n',jokes[0],'\\n')\n",
    "\n",
    "training_data, test_data = list_splitter(jokes, 0.8)\n",
    "\n",
    "#training_data = jokes[:20]\n",
    "#test_data = jokes[20:30]\n",
    "\n",
    "print('Number of training samples: ',len(training_data))\n",
    "print('Number of test samples: ', len(test_data))"
   ]
  },
  {
   "cell_type": "markdown",
   "metadata": {
    "pycharm": {
     "is_executing": true,
     "name": "#%% md\n"
    }
   },
   "source": [
    "## Training & Evaluation of Feed-Forward-NARU Model ##"
   ]
  },
  {
   "cell_type": "code",
   "execution_count": 8,
   "metadata": {
    "pycharm": {
     "is_executing": true,
     "name": "#%%\n"
    },
    "scrolled": true
   },
   "outputs": [
    {
     "ename": "FileNotFoundError",
     "evalue": "[WinError 3] The system cannot find the path specified: 'models/feed-forward-NARU'",
     "output_type": "error",
     "traceback": [
      "\u001B[1;31m---------------------------------------------------------------------------\u001B[0m",
      "\u001B[1;31mFileNotFoundError\u001B[0m                         Traceback (most recent call last)",
      "\u001B[1;32m<ipython-input-8-7783d92791d8>\u001B[0m in \u001B[0;36m<module>\u001B[1;34m\u001B[0m\n\u001B[0;32m      6\u001B[0m )\n\u001B[0;32m      7\u001B[0m \u001B[0mtarget_folder\u001B[0m \u001B[1;33m=\u001B[0m \u001B[1;34m'models/feed-forward-NARU'\u001B[0m\u001B[1;31m#+'_'+time.strftime(\"%Y%m%d-%H%M%S\")+'/'\u001B[0m\u001B[1;33m\u001B[0m\u001B[1;33m\u001B[0m\u001B[0m\n\u001B[1;32m----> 8\u001B[1;33m \u001B[0mmodel\u001B[0m\u001B[1;33m.\u001B[0m\u001B[0mset_params\u001B[0m\u001B[1;33m(\u001B[0m\u001B[0mload_params\u001B[0m\u001B[1;33m(\u001B[0m\u001B[0mtarget_folder\u001B[0m\u001B[1;33m)\u001B[0m\u001B[1;33m)\u001B[0m\u001B[1;33m\u001B[0m\u001B[1;33m\u001B[0m\u001B[0m\n\u001B[0m\u001B[0;32m      9\u001B[0m \u001B[1;33m\u001B[0m\u001B[0m\n\u001B[0;32m     10\u001B[0m \u001B[1;32mfor\u001B[0m \u001B[0mW\u001B[0m \u001B[1;32min\u001B[0m \u001B[0mmodel\u001B[0m\u001B[1;33m.\u001B[0m\u001B[0mget_params\u001B[0m\u001B[1;33m(\u001B[0m\u001B[1;33m)\u001B[0m\u001B[1;33m:\u001B[0m \u001B[0mW\u001B[0m\u001B[1;33m.\u001B[0m\u001B[0mrequires_grad\u001B[0m \u001B[1;33m=\u001B[0m \u001B[1;32mTrue\u001B[0m\u001B[1;33m\u001B[0m\u001B[1;33m\u001B[0m\u001B[0m\n",
      "\u001B[1;32m~\\Documents\\Python Scripts\\bachelor\\lara\\utility\\persistence.py\u001B[0m in \u001B[0;36mload_params\u001B[1;34m(folder)\u001B[0m\n\u001B[0;32m     28\u001B[0m     \u001B[1;32mif\u001B[0m \u001B[0mos\u001B[0m\u001B[1;33m.\u001B[0m\u001B[0mpath\u001B[0m\u001B[1;33m.\u001B[0m\u001B[0mexists\u001B[0m\u001B[1;33m(\u001B[0m\u001B[0mos\u001B[0m\u001B[1;33m.\u001B[0m\u001B[0mpath\u001B[0m\u001B[1;33m.\u001B[0m\u001B[0mdirname\u001B[0m\u001B[1;33m(\u001B[0m\u001B[0mfolder\u001B[0m\u001B[1;33m)\u001B[0m\u001B[1;33m)\u001B[0m\u001B[1;33m:\u001B[0m\u001B[1;33m\u001B[0m\u001B[1;33m\u001B[0m\u001B[0m\n\u001B[0;32m     29\u001B[0m         \u001B[0mparams\u001B[0m \u001B[1;33m=\u001B[0m \u001B[1;33m[\u001B[0m\u001B[1;33m]\u001B[0m\u001B[1;33m\u001B[0m\u001B[1;33m\u001B[0m\u001B[0m\n\u001B[1;32m---> 30\u001B[1;33m         \u001B[0monly_files\u001B[0m \u001B[1;33m=\u001B[0m \u001B[1;33m[\u001B[0m\u001B[0mf\u001B[0m \u001B[1;32mfor\u001B[0m \u001B[0mf\u001B[0m \u001B[1;32min\u001B[0m \u001B[0mlistdir\u001B[0m\u001B[1;33m(\u001B[0m\u001B[0mfolder\u001B[0m\u001B[1;33m)\u001B[0m \u001B[1;32mif\u001B[0m \u001B[0misfile\u001B[0m\u001B[1;33m(\u001B[0m\u001B[0mjoin\u001B[0m\u001B[1;33m(\u001B[0m\u001B[0mfolder\u001B[0m\u001B[1;33m,\u001B[0m \u001B[0mf\u001B[0m\u001B[1;33m)\u001B[0m\u001B[1;33m)\u001B[0m\u001B[1;33m]\u001B[0m\u001B[1;33m\u001B[0m\u001B[1;33m\u001B[0m\u001B[0m\n\u001B[0m\u001B[0;32m     31\u001B[0m         \u001B[1;32mfor\u001B[0m \u001B[0mi\u001B[0m\u001B[1;33m,\u001B[0m \u001B[0mfile\u001B[0m \u001B[1;32min\u001B[0m \u001B[0menumerate\u001B[0m\u001B[1;33m(\u001B[0m\u001B[0monly_files\u001B[0m\u001B[1;33m)\u001B[0m\u001B[1;33m:\u001B[0m\u001B[1;33m\u001B[0m\u001B[1;33m\u001B[0m\u001B[0m\n\u001B[0;32m     32\u001B[0m             \u001B[0mtensor\u001B[0m \u001B[1;33m=\u001B[0m \u001B[0mtorch\u001B[0m\u001B[1;33m.\u001B[0m\u001B[0mload\u001B[0m\u001B[1;33m(\u001B[0m\u001B[0mfolder\u001B[0m\u001B[1;33m+\u001B[0m\u001B[1;34m'parameter_'\u001B[0m\u001B[1;33m+\u001B[0m\u001B[0mstr\u001B[0m\u001B[1;33m(\u001B[0m\u001B[0mi\u001B[0m\u001B[1;33m)\u001B[0m\u001B[1;33m+\u001B[0m\u001B[1;34m'.pt'\u001B[0m\u001B[1;33m)\u001B[0m\u001B[1;33m\u001B[0m\u001B[1;33m\u001B[0m\u001B[0m\n",
      "\u001B[1;31mFileNotFoundError\u001B[0m: [WinError 3] The system cannot find the path specified: 'models/feed-forward-NARU'"
     ]
    }
   ],
   "source": [
    "# feed-forward-NARU\n",
    "model = Network(\n",
    "    depth=5,\n",
    "    max_height=10, max_dim=64, max_cone=5,\n",
    "    D_in=50, D_out=50\n",
    ")\n",
    "target_folder = 'models/feed-forward-NARU'#+'_'+time.strftime(\"%Y%m%d-%H%M%S\")+'/'\n",
    "model.set_params(load_params(target_folder))\n",
    " \n",
    "for W in model.get_params(): W.requires_grad = True\n",
    "\n",
    "encoder = Encoder()\n",
    "\n",
    "for i in range(5): # Outer loop for saving the model from time to time...\n",
    "    choice_matrices = exec_trial_with_autograd(\n",
    "        model=model,\n",
    "        encoder=encoder,\n",
    "        optimizer=torch.optim.Adam(model.get_params(), lr=0.0001),\n",
    "        training_data=training_data,\n",
    "        test_data=test_data,\n",
    "        epochs=1\n",
    "    )\n",
    "    #print(choice_matrices)\n",
    "    # SAVING PARAMETERS:\n",
    "    save_params( model, target_folder )\n",
    "\n",
    "\n",
    "print('FFNN-NARU Training done!')\n",
    "\n",
    "test_sentence = encoder.sequence_words_in('What did the bartender say to the jumper cables ?'.split())\n",
    "pred_vecs = model.pred(test_sentence)\n",
    "print(' '.join(encoder.sequence_vecs_in(pred_vecs)))\n"
   ]
  },
  {
   "cell_type": "code",
   "execution_count": null,
   "metadata": {},
   "outputs": [],
   "source": []
  }
 ],
 "metadata": {
  "kernelspec": {
   "display_name": "Python 3",
   "language": "python",
   "name": "python3"
  },
  "language_info": {
   "codemirror_mode": {
    "name": "ipython",
    "version": 3
   },
   "file_extension": ".py",
   "mimetype": "text/x-python",
   "name": "python",
   "nbconvert_exporter": "python",
   "pygments_lexer": "ipython3",
   "version": "3.7.9"
  }
 },
 "nbformat": 4,
 "nbformat_minor": 4
}